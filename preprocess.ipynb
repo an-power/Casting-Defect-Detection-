{
 "cells": [
  {
   "cell_type": "code",
   "execution_count": 1,
   "id": "87bbff02",
   "metadata": {},
   "outputs": [],
   "source": [
    "import cv2\n",
    "import numpy as np\n",
    "\n",
    "def preprocess_frame(frame):\n",
    "    # Convert to grayscale\n",
    "    gray = cv2.cvtColor(frame, cv2.COLOR_BGR2GRAY)\n",
    "    \n",
    "    # Apply Gaussian blur to reduce noise\n",
    "    blur = cv2.GaussianBlur(gray, (5, 5), 0)\n",
    "    \n",
    "    # Canny edge detection\n",
    "    edges = cv2.Canny(blur, 50, 150)\n",
    "    \n",
    "    return edges"
   ]
  },
  {
   "cell_type": "code",
   "execution_count": null,
   "id": "dd9392e7",
   "metadata": {},
   "outputs": [],
   "source": [
    "def detect_defects(edges, original_frame):\n",
    "    # Find contours\n",
    "    contours, _ = cv2.findContours(edges, cv2.RETR_EXTERNAL, cv2.CHAIN_APPROX_SIMPLE)\n",
    "    \n",
    "    defect_detected = False\n",
    "    defect_contours = []\n",
    "    \n",
    "    # Filter contours\n",
    "    for contour in contours:\n",
    "        area = cv2.contourArea(contour)\n",
    "        if area < 100:  # Ignore small contours (noise)\n",
    "            continue\n",
    "        \n",
    "        # Get bounding rectangle\n",
    "        x, y, w, h = cv2.boundingRect(contour)\n",
    "        aspect_ratio = float(w) / h\n",
    "        \n",
    "        # Cracks are often long and narrow (aspect ratio > 2 or < 0.5)\n",
    "        if (aspect_ratio > 2 or aspect_ratio < 0.5) and area > 200:\n",
    "            defect_contours.append(contour)\n",
    "            defect_detected = True\n",
    "    \n",
    "    # Draw contours on original frame\n",
    "    cv2.drawContours(original_frame, defect_contours, -1, (0, 0, 255), 2)\n",
    "    \n",
    "    return original_frame, defect_detected"
   ]
  }
 ],
 "metadata": {
  "kernelspec": {
   "display_name": "Python 3",
   "language": "python",
   "name": "python3"
  },
  "language_info": {
   "codemirror_mode": {
    "name": "ipython",
    "version": 3
   },
   "file_extension": ".py",
   "mimetype": "text/x-python",
   "name": "python",
   "nbconvert_exporter": "python",
   "pygments_lexer": "ipython3",
   "version": "3.11.9"
  }
 },
 "nbformat": 4,
 "nbformat_minor": 5
}
